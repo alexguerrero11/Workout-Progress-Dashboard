{
 "cells": [
  {
   "attachments": {},
   "cell_type": "markdown",
   "metadata": {},
   "source": [
    "# Workout Data Workbook \n",
    "by Alex Guerrero"
   ]
  },
  {
   "attachments": {},
   "cell_type": "markdown",
   "metadata": {},
   "source": [
    "### Packages Imported"
   ]
  },
  {
   "cell_type": "code",
   "execution_count": 1,
   "metadata": {},
   "outputs": [],
   "source": [
    "# from email import header\n",
    "# import streamlit as st\n",
    "import pandas as pd\n",
    "from datetime import datetime, timedelta, date\n",
    "from dateutil.relativedelta import relativedelta"
   ]
  },
  {
   "attachments": {},
   "cell_type": "markdown",
   "metadata": {},
   "source": [
    "### CSV File Import"
   ]
  },
  {
   "cell_type": "code",
   "execution_count": 2,
   "metadata": {},
   "outputs": [],
   "source": [
    "filename = 'data/workout - log.csv'\n",
    "workout_data = pd.read_csv(filename)"
   ]
  },
  {
   "attachments": {},
   "cell_type": "markdown",
   "metadata": {},
   "source": [
    "## Exploring of the data"
   ]
  },
  {
   "cell_type": "code",
   "execution_count": 3,
   "metadata": {},
   "outputs": [
    {
     "data": {
      "text/html": [
       "<div>\n",
       "<style scoped>\n",
       "    .dataframe tbody tr th:only-of-type {\n",
       "        vertical-align: middle;\n",
       "    }\n",
       "\n",
       "    .dataframe tbody tr th {\n",
       "        vertical-align: top;\n",
       "    }\n",
       "\n",
       "    .dataframe thead th {\n",
       "        text-align: right;\n",
       "    }\n",
       "</style>\n",
       "<table border=\"1\" class=\"dataframe\">\n",
       "  <thead>\n",
       "    <tr style=\"text-align: right;\">\n",
       "      <th></th>\n",
       "      <th>Date</th>\n",
       "      <th>Exercise</th>\n",
       "      <th>Muscle</th>\n",
       "      <th>Sets</th>\n",
       "      <th>Reps</th>\n",
       "      <th>Weight</th>\n",
       "      <th>Duration</th>\n",
       "      <th>Note</th>\n",
       "    </tr>\n",
       "  </thead>\n",
       "  <tbody>\n",
       "    <tr>\n",
       "      <th>0</th>\n",
       "      <td>5/31/2021</td>\n",
       "      <td>Bodyweight</td>\n",
       "      <td>Weight</td>\n",
       "      <td>NaN</td>\n",
       "      <td>NaN</td>\n",
       "      <td>127.8</td>\n",
       "      <td>NaN</td>\n",
       "      <td>NaN</td>\n",
       "    </tr>\n",
       "    <tr>\n",
       "      <th>1</th>\n",
       "      <td>6/1/2021</td>\n",
       "      <td>Bodyweight</td>\n",
       "      <td>Weight</td>\n",
       "      <td>NaN</td>\n",
       "      <td>NaN</td>\n",
       "      <td>128.3</td>\n",
       "      <td>NaN</td>\n",
       "      <td>NaN</td>\n",
       "    </tr>\n",
       "    <tr>\n",
       "      <th>2</th>\n",
       "      <td>6/7/2021</td>\n",
       "      <td>Bodyweight</td>\n",
       "      <td>Weight</td>\n",
       "      <td>NaN</td>\n",
       "      <td>NaN</td>\n",
       "      <td>130.0</td>\n",
       "      <td>NaN</td>\n",
       "      <td>NaN</td>\n",
       "    </tr>\n",
       "    <tr>\n",
       "      <th>3</th>\n",
       "      <td>6/9/2021</td>\n",
       "      <td>Bodyweight</td>\n",
       "      <td>Weight</td>\n",
       "      <td>NaN</td>\n",
       "      <td>NaN</td>\n",
       "      <td>128.9</td>\n",
       "      <td>NaN</td>\n",
       "      <td>NaN</td>\n",
       "    </tr>\n",
       "    <tr>\n",
       "      <th>4</th>\n",
       "      <td>7/8/2021</td>\n",
       "      <td>Bodyweight</td>\n",
       "      <td>Weight</td>\n",
       "      <td>NaN</td>\n",
       "      <td>NaN</td>\n",
       "      <td>129.0</td>\n",
       "      <td>NaN</td>\n",
       "      <td>NaN</td>\n",
       "    </tr>\n",
       "  </tbody>\n",
       "</table>\n",
       "</div>"
      ],
      "text/plain": [
       "        Date    Exercise  Muscle  Sets  Reps  Weight Duration Note\n",
       "0  5/31/2021  Bodyweight  Weight   NaN   NaN   127.8      NaN  NaN\n",
       "1   6/1/2021  Bodyweight  Weight   NaN   NaN   128.3      NaN  NaN\n",
       "2   6/7/2021  Bodyweight  Weight   NaN   NaN   130.0      NaN  NaN\n",
       "3   6/9/2021  Bodyweight  Weight   NaN   NaN   128.9      NaN  NaN\n",
       "4   7/8/2021  Bodyweight  Weight   NaN   NaN   129.0      NaN  NaN"
      ]
     },
     "execution_count": 3,
     "metadata": {},
     "output_type": "execute_result"
    }
   ],
   "source": [
    "# Printing the first 5 rows\n",
    "workout_data.head()"
   ]
  },
  {
   "cell_type": "code",
   "execution_count": 4,
   "metadata": {},
   "outputs": [
    {
     "data": {
      "text/html": [
       "<div>\n",
       "<style scoped>\n",
       "    .dataframe tbody tr th:only-of-type {\n",
       "        vertical-align: middle;\n",
       "    }\n",
       "\n",
       "    .dataframe tbody tr th {\n",
       "        vertical-align: top;\n",
       "    }\n",
       "\n",
       "    .dataframe thead th {\n",
       "        text-align: right;\n",
       "    }\n",
       "</style>\n",
       "<table border=\"1\" class=\"dataframe\">\n",
       "  <thead>\n",
       "    <tr style=\"text-align: right;\">\n",
       "      <th></th>\n",
       "      <th>Date</th>\n",
       "      <th>Exercise</th>\n",
       "      <th>Muscle</th>\n",
       "      <th>Sets</th>\n",
       "      <th>Reps</th>\n",
       "      <th>Weight</th>\n",
       "      <th>Duration</th>\n",
       "      <th>Note</th>\n",
       "    </tr>\n",
       "  </thead>\n",
       "  <tbody>\n",
       "    <tr>\n",
       "      <th>4128</th>\n",
       "      <td>11/27/2024</td>\n",
       "      <td>Hack Squat</td>\n",
       "      <td>Glutes_Hamstrings</td>\n",
       "      <td>1.0</td>\n",
       "      <td>8.0</td>\n",
       "      <td>45.0</td>\n",
       "      <td>NaN</td>\n",
       "      <td>NaN</td>\n",
       "    </tr>\n",
       "    <tr>\n",
       "      <th>4129</th>\n",
       "      <td>11/27/2024</td>\n",
       "      <td>Hack Squat</td>\n",
       "      <td>Glutes_Hamstrings</td>\n",
       "      <td>2.0</td>\n",
       "      <td>5.0</td>\n",
       "      <td>65.0</td>\n",
       "      <td>NaN</td>\n",
       "      <td>2x10</td>\n",
       "    </tr>\n",
       "    <tr>\n",
       "      <th>4130</th>\n",
       "      <td>11/27/2024</td>\n",
       "      <td>Seated Calf Raises</td>\n",
       "      <td>Calves</td>\n",
       "      <td>1.0</td>\n",
       "      <td>10.0</td>\n",
       "      <td>10.0</td>\n",
       "      <td>NaN</td>\n",
       "      <td>NaN</td>\n",
       "    </tr>\n",
       "    <tr>\n",
       "      <th>4131</th>\n",
       "      <td>11/27/2024</td>\n",
       "      <td>Seated Calf Raises</td>\n",
       "      <td>Calves</td>\n",
       "      <td>2.0</td>\n",
       "      <td>10.0</td>\n",
       "      <td>25.0</td>\n",
       "      <td>NaN</td>\n",
       "      <td>NaN</td>\n",
       "    </tr>\n",
       "    <tr>\n",
       "      <th>4132</th>\n",
       "      <td>11/27/2024</td>\n",
       "      <td>Seated Calf Raises</td>\n",
       "      <td>Calves</td>\n",
       "      <td>3.0</td>\n",
       "      <td>5.0</td>\n",
       "      <td>25.0</td>\n",
       "      <td>NaN</td>\n",
       "      <td>NaN</td>\n",
       "    </tr>\n",
       "  </tbody>\n",
       "</table>\n",
       "</div>"
      ],
      "text/plain": [
       "            Date            Exercise             Muscle  Sets  Reps  Weight  \\\n",
       "4128  11/27/2024          Hack Squat  Glutes_Hamstrings   1.0   8.0    45.0   \n",
       "4129  11/27/2024          Hack Squat  Glutes_Hamstrings   2.0   5.0    65.0   \n",
       "4130  11/27/2024  Seated Calf Raises             Calves   1.0  10.0    10.0   \n",
       "4131  11/27/2024  Seated Calf Raises             Calves   2.0  10.0    25.0   \n",
       "4132  11/27/2024  Seated Calf Raises             Calves   3.0   5.0    25.0   \n",
       "\n",
       "     Duration  Note  \n",
       "4128      NaN   NaN  \n",
       "4129      NaN  2x10  \n",
       "4130      NaN   NaN  \n",
       "4131      NaN   NaN  \n",
       "4132      NaN   NaN  "
      ]
     },
     "execution_count": 4,
     "metadata": {},
     "output_type": "execute_result"
    }
   ],
   "source": [
    "# Printing the last 5 rows\n",
    "workout_data.tail()"
   ]
  },
  {
   "cell_type": "code",
   "execution_count": 5,
   "metadata": {},
   "outputs": [
    {
     "data": {
      "text/plain": [
       "(4133, 8)"
      ]
     },
     "execution_count": 5,
     "metadata": {},
     "output_type": "execute_result"
    }
   ],
   "source": [
    "# date shape\n",
    "workout_data.shape"
   ]
  },
  {
   "cell_type": "code",
   "execution_count": 6,
   "metadata": {},
   "outputs": [
    {
     "data": {
      "text/plain": [
       "Index(['Date', 'Exercise', 'Muscle', 'Sets', 'Reps', 'Weight', 'Duration',\n",
       "       'Note'],\n",
       "      dtype='object')"
      ]
     },
     "execution_count": 6,
     "metadata": {},
     "output_type": "execute_result"
    }
   ],
   "source": [
    "# printing data columns\n",
    "workout_data.columns"
   ]
  },
  {
   "cell_type": "code",
   "execution_count": 7,
   "metadata": {},
   "outputs": [
    {
     "name": "stdout",
     "output_type": "stream",
     "text": [
      "<class 'pandas.core.frame.DataFrame'>\n",
      "RangeIndex: 4133 entries, 0 to 4132\n",
      "Data columns (total 8 columns):\n",
      " #   Column    Non-Null Count  Dtype  \n",
      "---  ------    --------------  -----  \n",
      " 0   Date      4133 non-null   object \n",
      " 1   Exercise  4133 non-null   object \n",
      " 2   Muscle    4133 non-null   object \n",
      " 3   Sets      3827 non-null   float64\n",
      " 4   Reps      3796 non-null   float64\n",
      " 5   Weight    2891 non-null   float64\n",
      " 6   Duration  16 non-null     object \n",
      " 7   Note      213 non-null    object \n",
      "dtypes: float64(3), object(5)\n",
      "memory usage: 258.4+ KB\n"
     ]
    }
   ],
   "source": [
    "# Dara more information\n",
    "workout_data.info()"
   ]
  },
  {
   "attachments": {},
   "cell_type": "markdown",
   "metadata": {},
   "source": [
    "### Dataframe Clean Up"
   ]
  },
  {
   "cell_type": "code",
   "execution_count": 9,
   "metadata": {},
   "outputs": [],
   "source": [
    "# Convert Date to datetime\n",
    "workout_data['Date'] = pd.to_datetime(workout_data['Date'], format=\"%m/%d/%Y\")\n",
    "\n",
    "# Ensure Exercise, Muscle, and Note are strings\n",
    "workout_data['Exercise'] = workout_data['Exercise'].astype(str)\n",
    "workout_data['Muscle'] = workout_data['Muscle'].astype(str)\n",
    "workout_data['Note'] = workout_data['Note'].fillna(\"\").astype(str)\n",
    "\n",
    "# Convert Sets and Reps to float64\n",
    "workout_data['Sets'] = workout_data['Sets'].fillna(0).astype(int)\n",
    "workout_data['Reps'] = workout_data['Reps'].fillna(0).astype(int)\n",
    "\n",
    "# Convert Weight to float64, keeping NaN for missing values\n",
    "workout_data['Weight'] = workout_data['Weight'].astype(float)\n",
    "\n",
    "# Convert Duration to object (string) with default value for missing data\n",
    "workout_data['Duration'] = workout_data['Duration'].fillna(\"00:00:00\").astype(str)\n",
    "\n",
    "# Convert Total_volume to float64, keeping NaN for missing values\n",
    "workout_data['Total_volume'] = workout_data['Reps'] * workout_data['Weight'] \n",
    "workout_data['Total_volume'] = workout_data['Total_volume'].astype(float)"
   ]
  },
  {
   "cell_type": "code",
   "execution_count": 10,
   "metadata": {},
   "outputs": [
    {
     "data": {
      "text/plain": [
       "(4133, 9)"
      ]
     },
     "execution_count": 10,
     "metadata": {},
     "output_type": "execute_result"
    }
   ],
   "source": [
    "# re-checking dataframe shape\n",
    "workout_data.shape"
   ]
  },
  {
   "cell_type": "code",
   "execution_count": 11,
   "metadata": {},
   "outputs": [
    {
     "name": "stdout",
     "output_type": "stream",
     "text": [
      "<class 'pandas.core.frame.DataFrame'>\n",
      "RangeIndex: 4133 entries, 0 to 4132\n",
      "Data columns (total 9 columns):\n",
      " #   Column        Non-Null Count  Dtype         \n",
      "---  ------        --------------  -----         \n",
      " 0   Date          4133 non-null   datetime64[ns]\n",
      " 1   Exercise      4133 non-null   object        \n",
      " 2   Muscle        4133 non-null   object        \n",
      " 3   Sets          4133 non-null   int64         \n",
      " 4   Reps          4133 non-null   int64         \n",
      " 5   Weight        2891 non-null   float64       \n",
      " 6   Duration      4133 non-null   object        \n",
      " 7   Note          4133 non-null   object        \n",
      " 8   Total_volume  2891 non-null   float64       \n",
      "dtypes: datetime64[ns](1), float64(2), int64(2), object(4)\n",
      "memory usage: 290.7+ KB\n"
     ]
    }
   ],
   "source": [
    "workout_data.info()"
   ]
  },
  {
   "cell_type": "markdown",
   "metadata": {},
   "source": [
    "### Calculations"
   ]
  },
  {
   "cell_type": "code",
   "execution_count": 12,
   "metadata": {},
   "outputs": [],
   "source": [
    "# Date Parameters -- Calculations\n",
    "today = date.today()\n",
    "start_of_week = today - relativedelta(days=today.weekday())\n",
    "end_of_Week = start_of_week + relativedelta(days=6)\n",
    "first_day_of_month = today.replace(day=1)\n",
    "next_month_first_day = today + relativedelta(months=1, day=1)\n",
    "\n",
    "# Formatting date parameters into string\n",
    "today = today.strftime('%m-%d-%Y')\n",
    "start_of_week = start_of_week.strftime('%m-%d-%Y')\n",
    "end_of_Week = end_of_Week.strftime('%m-%d-%Y')\n",
    "first_day_of_month = first_day_of_month.strftime('%m-%d-%Y')\n",
    "next_month_first_day = next_month_first_day.strftime('%m-%d-%Y')"
   ]
  },
  {
   "attachments": {},
   "cell_type": "markdown",
   "metadata": {},
   "source": [
    "## KPIs"
   ]
  },
  {
   "cell_type": "code",
   "execution_count": 13,
   "metadata": {},
   "outputs": [
    {
     "name": "stdout",
     "output_type": "stream",
     "text": [
      "Weekly Record Count: 2\n"
     ]
    }
   ],
   "source": [
    "# total count of record in current week\n",
    "weekly_count = len(workout_data.query(\" Date >= @start_of_week & Date <= @end_of_Week\")['Date'].unique())\n",
    "print(f\"Weekly Record Count: {weekly_count}\")"
   ]
  },
  {
   "cell_type": "code",
   "execution_count": 14,
   "metadata": {},
   "outputs": [
    {
     "name": "stdout",
     "output_type": "stream",
     "text": [
      "Montly Record Count: 5\n"
     ]
    }
   ],
   "source": [
    "# total count of record in current month\n",
    "monthly_count = len(workout_data.query(\" Date >= @first_day_of_month & Date < @next_month_first_day\")['Date'].unique())\n",
    "print(f\"Montly Record Count: {monthly_count}\")"
   ]
  },
  {
   "cell_type": "code",
   "execution_count": 15,
   "metadata": {},
   "outputs": [
    {
     "name": "stdout",
     "output_type": "stream",
     "text": [
      "Total record count: 432\n"
     ]
    }
   ],
   "source": [
    "# unique date total record count\n",
    "total_records_count = len(workout_data.Date.unique())\n",
    "print(f\"Total record count: {total_records_count}\")"
   ]
  },
  {
   "cell_type": "code",
   "execution_count": 16,
   "metadata": {},
   "outputs": [
    {
     "data": {
      "text/html": [
       "<div>\n",
       "<style scoped>\n",
       "    .dataframe tbody tr th:only-of-type {\n",
       "        vertical-align: middle;\n",
       "    }\n",
       "\n",
       "    .dataframe tbody tr th {\n",
       "        vertical-align: top;\n",
       "    }\n",
       "\n",
       "    .dataframe thead th {\n",
       "        text-align: right;\n",
       "    }\n",
       "</style>\n",
       "<table border=\"1\" class=\"dataframe\">\n",
       "  <thead>\n",
       "    <tr style=\"text-align: right;\">\n",
       "      <th></th>\n",
       "      <th>Date</th>\n",
       "      <th>Total_volume</th>\n",
       "    </tr>\n",
       "  </thead>\n",
       "  <tbody>\n",
       "    <tr>\n",
       "      <th>0</th>\n",
       "      <td>2021-05-31</td>\n",
       "      <td>0.0</td>\n",
       "    </tr>\n",
       "    <tr>\n",
       "      <th>1</th>\n",
       "      <td>2021-06-01</td>\n",
       "      <td>0.0</td>\n",
       "    </tr>\n",
       "    <tr>\n",
       "      <th>2</th>\n",
       "      <td>2021-06-07</td>\n",
       "      <td>0.0</td>\n",
       "    </tr>\n",
       "    <tr>\n",
       "      <th>3</th>\n",
       "      <td>2021-06-09</td>\n",
       "      <td>0.0</td>\n",
       "    </tr>\n",
       "    <tr>\n",
       "      <th>4</th>\n",
       "      <td>2021-07-08</td>\n",
       "      <td>0.0</td>\n",
       "    </tr>\n",
       "    <tr>\n",
       "      <th>...</th>\n",
       "      <td>...</td>\n",
       "      <td>...</td>\n",
       "    </tr>\n",
       "    <tr>\n",
       "      <th>427</th>\n",
       "      <td>2024-11-01</td>\n",
       "      <td>6595.0</td>\n",
       "    </tr>\n",
       "    <tr>\n",
       "      <th>428</th>\n",
       "      <td>2024-11-14</td>\n",
       "      <td>0.0</td>\n",
       "    </tr>\n",
       "    <tr>\n",
       "      <th>429</th>\n",
       "      <td>2024-11-15</td>\n",
       "      <td>6024.0</td>\n",
       "    </tr>\n",
       "    <tr>\n",
       "      <th>430</th>\n",
       "      <td>2024-11-25</td>\n",
       "      <td>5240.0</td>\n",
       "    </tr>\n",
       "    <tr>\n",
       "      <th>431</th>\n",
       "      <td>2024-11-27</td>\n",
       "      <td>6410.0</td>\n",
       "    </tr>\n",
       "  </tbody>\n",
       "</table>\n",
       "<p>432 rows × 2 columns</p>\n",
       "</div>"
      ],
      "text/plain": [
       "          Date  Total_volume\n",
       "0   2021-05-31           0.0\n",
       "1   2021-06-01           0.0\n",
       "2   2021-06-07           0.0\n",
       "3   2021-06-09           0.0\n",
       "4   2021-07-08           0.0\n",
       "..         ...           ...\n",
       "427 2024-11-01        6595.0\n",
       "428 2024-11-14           0.0\n",
       "429 2024-11-15        6024.0\n",
       "430 2024-11-25        5240.0\n",
       "431 2024-11-27        6410.0\n",
       "\n",
       "[432 rows x 2 columns]"
      ]
     },
     "execution_count": 16,
     "metadata": {},
     "output_type": "execute_result"
    }
   ],
   "source": [
    "# total volume per day\n",
    "total_volume_per_day = workout_data[[\"Date\",\"Total_volume\"]].groupby(by=\"Date\").sum(\"Total_volume\")\n",
    "total_volume_per_day.reset_index()"
   ]
  },
  {
   "attachments": {},
   "cell_type": "markdown",
   "metadata": {},
   "source": [
    "### Latest Record"
   ]
  },
  {
   "cell_type": "code",
   "execution_count": null,
   "metadata": {},
   "outputs": [
    {
     "data": {
      "text/html": [
       "<div>\n",
       "<style scoped>\n",
       "    .dataframe tbody tr th:only-of-type {\n",
       "        vertical-align: middle;\n",
       "    }\n",
       "\n",
       "    .dataframe tbody tr th {\n",
       "        vertical-align: top;\n",
       "    }\n",
       "\n",
       "    .dataframe thead th {\n",
       "        text-align: right;\n",
       "    }\n",
       "</style>\n",
       "<table border=\"1\" class=\"dataframe\">\n",
       "  <thead>\n",
       "    <tr style=\"text-align: right;\">\n",
       "      <th></th>\n",
       "      <th>Date</th>\n",
       "      <th>Exercise</th>\n",
       "      <th>Muscle</th>\n",
       "      <th>Sets</th>\n",
       "      <th>Reps</th>\n",
       "      <th>Weight</th>\n",
       "      <th>Duration</th>\n",
       "      <th>Note</th>\n",
       "      <th>Total_volume</th>\n",
       "    </tr>\n",
       "  </thead>\n",
       "  <tbody>\n",
       "    <tr>\n",
       "      <th>4119</th>\n",
       "      <td>2024-11-27</td>\n",
       "      <td>Barbell Squats</td>\n",
       "      <td>Quadriceps</td>\n",
       "      <td>1</td>\n",
       "      <td>10</td>\n",
       "      <td>45.0</td>\n",
       "      <td>00:00:00</td>\n",
       "      <td></td>\n",
       "      <td>450.0</td>\n",
       "    </tr>\n",
       "    <tr>\n",
       "      <th>4120</th>\n",
       "      <td>2024-11-27</td>\n",
       "      <td>Barbell Squats</td>\n",
       "      <td>Quadriceps</td>\n",
       "      <td>2</td>\n",
       "      <td>10</td>\n",
       "      <td>65.0</td>\n",
       "      <td>00:00:00</td>\n",
       "      <td>2x10</td>\n",
       "      <td>650.0</td>\n",
       "    </tr>\n",
       "    <tr>\n",
       "      <th>4121</th>\n",
       "      <td>2024-11-27</td>\n",
       "      <td>Barbell Squats</td>\n",
       "      <td>Quadriceps</td>\n",
       "      <td>3</td>\n",
       "      <td>5</td>\n",
       "      <td>65.0</td>\n",
       "      <td>00:00:00</td>\n",
       "      <td>2x10</td>\n",
       "      <td>325.0</td>\n",
       "    </tr>\n",
       "    <tr>\n",
       "      <th>4122</th>\n",
       "      <td>2024-11-27</td>\n",
       "      <td>Barbell Squats</td>\n",
       "      <td>Quadriceps</td>\n",
       "      <td>4</td>\n",
       "      <td>8</td>\n",
       "      <td>115.0</td>\n",
       "      <td>00:00:00</td>\n",
       "      <td>2x35</td>\n",
       "      <td>920.0</td>\n",
       "    </tr>\n",
       "    <tr>\n",
       "      <th>4123</th>\n",
       "      <td>2024-11-27</td>\n",
       "      <td>Barbell Squats</td>\n",
       "      <td>Quadriceps</td>\n",
       "      <td>5</td>\n",
       "      <td>5</td>\n",
       "      <td>65.0</td>\n",
       "      <td>00:00:00</td>\n",
       "      <td>2x10</td>\n",
       "      <td>325.0</td>\n",
       "    </tr>\n",
       "    <tr>\n",
       "      <th>4124</th>\n",
       "      <td>2024-11-27</td>\n",
       "      <td>Leg Extensions</td>\n",
       "      <td>Quadriceps</td>\n",
       "      <td>1</td>\n",
       "      <td>15</td>\n",
       "      <td>60.0</td>\n",
       "      <td>00:00:00</td>\n",
       "      <td></td>\n",
       "      <td>900.0</td>\n",
       "    </tr>\n",
       "    <tr>\n",
       "      <th>4125</th>\n",
       "      <td>2024-11-27</td>\n",
       "      <td>Leg Extensions</td>\n",
       "      <td>Quadriceps</td>\n",
       "      <td>2</td>\n",
       "      <td>10</td>\n",
       "      <td>80.0</td>\n",
       "      <td>00:00:00</td>\n",
       "      <td></td>\n",
       "      <td>800.0</td>\n",
       "    </tr>\n",
       "    <tr>\n",
       "      <th>4126</th>\n",
       "      <td>2024-11-27</td>\n",
       "      <td>Leg Extensions</td>\n",
       "      <td>Quadriceps</td>\n",
       "      <td>3</td>\n",
       "      <td>8</td>\n",
       "      <td>60.0</td>\n",
       "      <td>00:00:00</td>\n",
       "      <td></td>\n",
       "      <td>480.0</td>\n",
       "    </tr>\n",
       "    <tr>\n",
       "      <th>4127</th>\n",
       "      <td>2024-11-27</td>\n",
       "      <td>Leg Extensions</td>\n",
       "      <td>Quadriceps</td>\n",
       "      <td>4</td>\n",
       "      <td>5</td>\n",
       "      <td>80.0</td>\n",
       "      <td>00:00:00</td>\n",
       "      <td></td>\n",
       "      <td>400.0</td>\n",
       "    </tr>\n",
       "    <tr>\n",
       "      <th>4128</th>\n",
       "      <td>2024-11-27</td>\n",
       "      <td>Hack Squat</td>\n",
       "      <td>Glutes_Hamstrings</td>\n",
       "      <td>1</td>\n",
       "      <td>8</td>\n",
       "      <td>45.0</td>\n",
       "      <td>00:00:00</td>\n",
       "      <td></td>\n",
       "      <td>360.0</td>\n",
       "    </tr>\n",
       "    <tr>\n",
       "      <th>4129</th>\n",
       "      <td>2024-11-27</td>\n",
       "      <td>Hack Squat</td>\n",
       "      <td>Glutes_Hamstrings</td>\n",
       "      <td>2</td>\n",
       "      <td>5</td>\n",
       "      <td>65.0</td>\n",
       "      <td>00:00:00</td>\n",
       "      <td>2x10</td>\n",
       "      <td>325.0</td>\n",
       "    </tr>\n",
       "    <tr>\n",
       "      <th>4130</th>\n",
       "      <td>2024-11-27</td>\n",
       "      <td>Seated Calf Raises</td>\n",
       "      <td>Calves</td>\n",
       "      <td>1</td>\n",
       "      <td>10</td>\n",
       "      <td>10.0</td>\n",
       "      <td>00:00:00</td>\n",
       "      <td></td>\n",
       "      <td>100.0</td>\n",
       "    </tr>\n",
       "    <tr>\n",
       "      <th>4131</th>\n",
       "      <td>2024-11-27</td>\n",
       "      <td>Seated Calf Raises</td>\n",
       "      <td>Calves</td>\n",
       "      <td>2</td>\n",
       "      <td>10</td>\n",
       "      <td>25.0</td>\n",
       "      <td>00:00:00</td>\n",
       "      <td></td>\n",
       "      <td>250.0</td>\n",
       "    </tr>\n",
       "    <tr>\n",
       "      <th>4132</th>\n",
       "      <td>2024-11-27</td>\n",
       "      <td>Seated Calf Raises</td>\n",
       "      <td>Calves</td>\n",
       "      <td>3</td>\n",
       "      <td>5</td>\n",
       "      <td>25.0</td>\n",
       "      <td>00:00:00</td>\n",
       "      <td></td>\n",
       "      <td>125.0</td>\n",
       "    </tr>\n",
       "  </tbody>\n",
       "</table>\n",
       "</div>"
      ],
      "text/plain": [
       "           Date            Exercise             Muscle  Sets  Reps  Weight  \\\n",
       "4119 2024-11-27      Barbell Squats         Quadriceps     1    10    45.0   \n",
       "4120 2024-11-27      Barbell Squats         Quadriceps     2    10    65.0   \n",
       "4121 2024-11-27      Barbell Squats         Quadriceps     3     5    65.0   \n",
       "4122 2024-11-27      Barbell Squats         Quadriceps     4     8   115.0   \n",
       "4123 2024-11-27      Barbell Squats         Quadriceps     5     5    65.0   \n",
       "4124 2024-11-27      Leg Extensions         Quadriceps     1    15    60.0   \n",
       "4125 2024-11-27      Leg Extensions         Quadriceps     2    10    80.0   \n",
       "4126 2024-11-27      Leg Extensions         Quadriceps     3     8    60.0   \n",
       "4127 2024-11-27      Leg Extensions         Quadriceps     4     5    80.0   \n",
       "4128 2024-11-27          Hack Squat  Glutes_Hamstrings     1     8    45.0   \n",
       "4129 2024-11-27          Hack Squat  Glutes_Hamstrings     2     5    65.0   \n",
       "4130 2024-11-27  Seated Calf Raises             Calves     1    10    10.0   \n",
       "4131 2024-11-27  Seated Calf Raises             Calves     2    10    25.0   \n",
       "4132 2024-11-27  Seated Calf Raises             Calves     3     5    25.0   \n",
       "\n",
       "      Duration  Note  Total_volume  \n",
       "4119  00:00:00               450.0  \n",
       "4120  00:00:00  2x10         650.0  \n",
       "4121  00:00:00  2x10         325.0  \n",
       "4122  00:00:00  2x35         920.0  \n",
       "4123  00:00:00  2x10         325.0  \n",
       "4124  00:00:00               900.0  \n",
       "4125  00:00:00               800.0  \n",
       "4126  00:00:00               480.0  \n",
       "4127  00:00:00               400.0  \n",
       "4128  00:00:00               360.0  \n",
       "4129  00:00:00  2x10         325.0  \n",
       "4130  00:00:00               100.0  \n",
       "4131  00:00:00               250.0  \n",
       "4132  00:00:00               125.0  "
      ]
     },
     "execution_count": 16,
     "metadata": {},
     "output_type": "execute_result"
    }
   ],
   "source": [
    "latest_record = workout_data[workout_data['Date'] == workout_data['Date'].unique()[-1]]\n",
    "latest_record"
   ]
  },
  {
   "cell_type": "code",
   "execution_count": null,
   "metadata": {},
   "outputs": [
    {
     "name": "stdout",
     "output_type": "stream",
     "text": [
      "Recent muscle groups worked out: ['Quadriceps' 'Glutes_Hamstrings' 'Calves']\n"
     ]
    }
   ],
   "source": [
    "print(f\"Recent muscle groups worked out: {workout_data[workout_data['Date'] == workout_data['Date'].unique()[-1]]['Muscle'].unique()}\")\n"
   ]
  },
  {
   "cell_type": "code",
   "execution_count": null,
   "metadata": {},
   "outputs": [
    {
     "name": "stdout",
     "output_type": "stream",
     "text": [
      "Quadriceps\n",
      "Glutes_Hamstrings\n",
      "Calves\n"
     ]
    }
   ],
   "source": [
    "# what muscle did we work out last\n",
    "for unique_muscle in latest_record['Muscle'].unique():\n",
    "    print(unique_muscle)"
   ]
  },
  {
   "cell_type": "code",
   "execution_count": null,
   "metadata": {},
   "outputs": [],
   "source": []
  },
  {
   "cell_type": "code",
   "execution_count": null,
   "metadata": {},
   "outputs": [],
   "source": []
  }
 ],
 "metadata": {
  "kernelspec": {
   "display_name": "my_python_project",
   "language": "python",
   "name": "python3"
  },
  "language_info": {
   "codemirror_mode": {
    "name": "ipython",
    "version": 3
   },
   "file_extension": ".py",
   "mimetype": "text/x-python",
   "name": "python",
   "nbconvert_exporter": "python",
   "pygments_lexer": "ipython3",
   "version": "3.8.2"
  },
  "orig_nbformat": 4,
  "vscode": {
   "interpreter": {
    "hash": "7b1d5d7e3ebafe170e3e04607f606e955af00efa24e6aac0c2727d6bf7ed4b12"
   }
  }
 },
 "nbformat": 4,
 "nbformat_minor": 2
}
