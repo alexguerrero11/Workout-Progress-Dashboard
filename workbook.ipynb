{
 "cells": [
  {
   "attachments": {},
   "cell_type": "markdown",
   "metadata": {},
   "source": [
    "# Workout Data Workbook \n",
    "by Alex Guerrero"
   ]
  },
  {
   "attachments": {},
   "cell_type": "markdown",
   "metadata": {},
   "source": [
    "### Packages Imported"
   ]
  },
  {
   "cell_type": "code",
   "execution_count": 5,
   "metadata": {},
   "outputs": [],
   "source": [
    "# from email import header\n",
    "# import streamlit as st\n",
    "import pandas as pd\n",
    "from datetime import datetime, timedelta, date\n",
    "from dateutil.relativedelta import relativedelta"
   ]
  },
  {
   "attachments": {},
   "cell_type": "markdown",
   "metadata": {},
   "source": [
    "### CSV File Import"
   ]
  },
  {
   "cell_type": "code",
   "execution_count": 6,
   "metadata": {},
   "outputs": [],
   "source": [
    "filename = 'data/workout-data - main.csv'\n",
    "workout_data = pd.read_csv(filename)"
   ]
  },
  {
   "attachments": {},
   "cell_type": "markdown",
   "metadata": {},
   "source": [
    "## Exploring of the data"
   ]
  },
  {
   "cell_type": "code",
   "execution_count": 7,
   "metadata": {},
   "outputs": [
    {
     "data": {
      "text/html": [
       "<div>\n",
       "<style scoped>\n",
       "    .dataframe tbody tr th:only-of-type {\n",
       "        vertical-align: middle;\n",
       "    }\n",
       "\n",
       "    .dataframe tbody tr th {\n",
       "        vertical-align: top;\n",
       "    }\n",
       "\n",
       "    .dataframe thead th {\n",
       "        text-align: right;\n",
       "    }\n",
       "</style>\n",
       "<table border=\"1\" class=\"dataframe\">\n",
       "  <thead>\n",
       "    <tr style=\"text-align: right;\">\n",
       "      <th></th>\n",
       "      <th>Date</th>\n",
       "      <th>Exercise</th>\n",
       "      <th>Muscle_group</th>\n",
       "      <th>Sets</th>\n",
       "      <th>Reps</th>\n",
       "      <th>Weight</th>\n",
       "      <th>Duration</th>\n",
       "      <th>Note</th>\n",
       "      <th>Total_volume</th>\n",
       "    </tr>\n",
       "  </thead>\n",
       "  <tbody>\n",
       "    <tr>\n",
       "      <th>0</th>\n",
       "      <td>5/31/2021</td>\n",
       "      <td>Bodyweight</td>\n",
       "      <td>Weight</td>\n",
       "      <td>NaN</td>\n",
       "      <td>NaN</td>\n",
       "      <td>127.8</td>\n",
       "      <td>NaN</td>\n",
       "      <td>NaN</td>\n",
       "      <td>0.0</td>\n",
       "    </tr>\n",
       "    <tr>\n",
       "      <th>1</th>\n",
       "      <td>6/1/2021</td>\n",
       "      <td>Bodyweight</td>\n",
       "      <td>Weight</td>\n",
       "      <td>NaN</td>\n",
       "      <td>NaN</td>\n",
       "      <td>128.3</td>\n",
       "      <td>NaN</td>\n",
       "      <td>NaN</td>\n",
       "      <td>0.0</td>\n",
       "    </tr>\n",
       "    <tr>\n",
       "      <th>2</th>\n",
       "      <td>6/7/2021</td>\n",
       "      <td>Bodyweight</td>\n",
       "      <td>Weight</td>\n",
       "      <td>NaN</td>\n",
       "      <td>NaN</td>\n",
       "      <td>130.0</td>\n",
       "      <td>NaN</td>\n",
       "      <td>NaN</td>\n",
       "      <td>0.0</td>\n",
       "    </tr>\n",
       "    <tr>\n",
       "      <th>3</th>\n",
       "      <td>6/9/2021</td>\n",
       "      <td>Bodyweight</td>\n",
       "      <td>Weight</td>\n",
       "      <td>NaN</td>\n",
       "      <td>NaN</td>\n",
       "      <td>128.9</td>\n",
       "      <td>NaN</td>\n",
       "      <td>NaN</td>\n",
       "      <td>0.0</td>\n",
       "    </tr>\n",
       "    <tr>\n",
       "      <th>4</th>\n",
       "      <td>7/8/2021</td>\n",
       "      <td>Bodyweight</td>\n",
       "      <td>Weight</td>\n",
       "      <td>NaN</td>\n",
       "      <td>NaN</td>\n",
       "      <td>129.0</td>\n",
       "      <td>NaN</td>\n",
       "      <td>NaN</td>\n",
       "      <td>0.0</td>\n",
       "    </tr>\n",
       "  </tbody>\n",
       "</table>\n",
       "</div>"
      ],
      "text/plain": [
       "        Date    Exercise Muscle_group  Sets  Reps  Weight  Duration Note  \\\n",
       "0  5/31/2021  Bodyweight       Weight   NaN   NaN   127.8       NaN  NaN   \n",
       "1   6/1/2021  Bodyweight       Weight   NaN   NaN   128.3       NaN  NaN   \n",
       "2   6/7/2021  Bodyweight       Weight   NaN   NaN   130.0       NaN  NaN   \n",
       "3   6/9/2021  Bodyweight       Weight   NaN   NaN   128.9       NaN  NaN   \n",
       "4   7/8/2021  Bodyweight       Weight   NaN   NaN   129.0       NaN  NaN   \n",
       "\n",
       "   Total_volume  \n",
       "0           0.0  \n",
       "1           0.0  \n",
       "2           0.0  \n",
       "3           0.0  \n",
       "4           0.0  "
      ]
     },
     "execution_count": 7,
     "metadata": {},
     "output_type": "execute_result"
    }
   ],
   "source": [
    "# Printing the first 5 rows\n",
    "workout_data.head()"
   ]
  },
  {
   "cell_type": "code",
   "execution_count": 8,
   "metadata": {},
   "outputs": [
    {
     "data": {
      "text/html": [
       "<div>\n",
       "<style scoped>\n",
       "    .dataframe tbody tr th:only-of-type {\n",
       "        vertical-align: middle;\n",
       "    }\n",
       "\n",
       "    .dataframe tbody tr th {\n",
       "        vertical-align: top;\n",
       "    }\n",
       "\n",
       "    .dataframe thead th {\n",
       "        text-align: right;\n",
       "    }\n",
       "</style>\n",
       "<table border=\"1\" class=\"dataframe\">\n",
       "  <thead>\n",
       "    <tr style=\"text-align: right;\">\n",
       "      <th></th>\n",
       "      <th>Date</th>\n",
       "      <th>Exercise</th>\n",
       "      <th>Muscle_group</th>\n",
       "      <th>Sets</th>\n",
       "      <th>Reps</th>\n",
       "      <th>Weight</th>\n",
       "      <th>Duration</th>\n",
       "      <th>Note</th>\n",
       "      <th>Total_volume</th>\n",
       "    </tr>\n",
       "  </thead>\n",
       "  <tbody>\n",
       "    <tr>\n",
       "      <th>2712</th>\n",
       "      <td>3/28/2023</td>\n",
       "      <td>Leg Curl</td>\n",
       "      <td>Glutes_Hamstrings</td>\n",
       "      <td>4.0</td>\n",
       "      <td>10.0</td>\n",
       "      <td>20.0</td>\n",
       "      <td>NaN</td>\n",
       "      <td>one leg</td>\n",
       "      <td>200.0</td>\n",
       "    </tr>\n",
       "    <tr>\n",
       "      <th>2713</th>\n",
       "      <td>3/28/2023</td>\n",
       "      <td>Machine Calf Raise</td>\n",
       "      <td>Calves</td>\n",
       "      <td>1.0</td>\n",
       "      <td>15.0</td>\n",
       "      <td>30.0</td>\n",
       "      <td>NaN</td>\n",
       "      <td>NaN</td>\n",
       "      <td>450.0</td>\n",
       "    </tr>\n",
       "    <tr>\n",
       "      <th>2714</th>\n",
       "      <td>3/28/2023</td>\n",
       "      <td>Machine Calf Raise</td>\n",
       "      <td>Calves</td>\n",
       "      <td>2.0</td>\n",
       "      <td>10.0</td>\n",
       "      <td>40.0</td>\n",
       "      <td>NaN</td>\n",
       "      <td>NaN</td>\n",
       "      <td>400.0</td>\n",
       "    </tr>\n",
       "    <tr>\n",
       "      <th>2715</th>\n",
       "      <td>3/28/2023</td>\n",
       "      <td>Machine Calf Raise</td>\n",
       "      <td>Calves</td>\n",
       "      <td>3.0</td>\n",
       "      <td>10.0</td>\n",
       "      <td>50.0</td>\n",
       "      <td>NaN</td>\n",
       "      <td>NaN</td>\n",
       "      <td>500.0</td>\n",
       "    </tr>\n",
       "    <tr>\n",
       "      <th>2716</th>\n",
       "      <td>3/28/2023</td>\n",
       "      <td>Machine Calf Raise</td>\n",
       "      <td>Calves</td>\n",
       "      <td>4.0</td>\n",
       "      <td>10.0</td>\n",
       "      <td>40.0</td>\n",
       "      <td>NaN</td>\n",
       "      <td>NaN</td>\n",
       "      <td>400.0</td>\n",
       "    </tr>\n",
       "  </tbody>\n",
       "</table>\n",
       "</div>"
      ],
      "text/plain": [
       "           Date            Exercise       Muscle_group  Sets  Reps  Weight  \\\n",
       "2712  3/28/2023            Leg Curl  Glutes_Hamstrings   4.0  10.0    20.0   \n",
       "2713  3/28/2023  Machine Calf Raise             Calves   1.0  15.0    30.0   \n",
       "2714  3/28/2023  Machine Calf Raise             Calves   2.0  10.0    40.0   \n",
       "2715  3/28/2023  Machine Calf Raise             Calves   3.0  10.0    50.0   \n",
       "2716  3/28/2023  Machine Calf Raise             Calves   4.0  10.0    40.0   \n",
       "\n",
       "      Duration     Note  Total_volume  \n",
       "2712       NaN  one leg         200.0  \n",
       "2713       NaN      NaN         450.0  \n",
       "2714       NaN      NaN         400.0  \n",
       "2715       NaN      NaN         500.0  \n",
       "2716       NaN      NaN         400.0  "
      ]
     },
     "execution_count": 8,
     "metadata": {},
     "output_type": "execute_result"
    }
   ],
   "source": [
    "# Printing the last 5 rows\n",
    "workout_data.tail()"
   ]
  },
  {
   "cell_type": "code",
   "execution_count": 9,
   "metadata": {},
   "outputs": [
    {
     "data": {
      "text/plain": [
       "(2717, 9)"
      ]
     },
     "execution_count": 9,
     "metadata": {},
     "output_type": "execute_result"
    }
   ],
   "source": [
    "# date shape\n",
    "workout_data.shape"
   ]
  },
  {
   "cell_type": "code",
   "execution_count": 10,
   "metadata": {},
   "outputs": [
    {
     "data": {
      "text/plain": [
       "Index(['Date', 'Exercise', 'Muscle_group', 'Sets', 'Reps', 'Weight',\n",
       "       'Duration', 'Note', 'Total_volume'],\n",
       "      dtype='object')"
      ]
     },
     "execution_count": 10,
     "metadata": {},
     "output_type": "execute_result"
    }
   ],
   "source": [
    "# printing data columns\n",
    "workout_data.columns"
   ]
  },
  {
   "cell_type": "code",
   "execution_count": 11,
   "metadata": {},
   "outputs": [
    {
     "name": "stdout",
     "output_type": "stream",
     "text": [
      "<class 'pandas.core.frame.DataFrame'>\n",
      "RangeIndex: 2717 entries, 0 to 2716\n",
      "Data columns (total 9 columns):\n",
      " #   Column        Non-Null Count  Dtype  \n",
      "---  ------        --------------  -----  \n",
      " 0   Date          2717 non-null   object \n",
      " 1   Exercise      2717 non-null   object \n",
      " 2   Muscle_group  2717 non-null   object \n",
      " 3   Sets          2629 non-null   float64\n",
      " 4   Reps          2603 non-null   float64\n",
      " 5   Weight        1945 non-null   float64\n",
      " 6   Duration      1 non-null      float64\n",
      " 7   Note          236 non-null    object \n",
      " 8   Total_volume  2717 non-null   float64\n",
      "dtypes: float64(5), object(4)\n",
      "memory usage: 191.2+ KB\n"
     ]
    }
   ],
   "source": [
    "# Dara more information\n",
    "workout_data.info()"
   ]
  },
  {
   "cell_type": "code",
   "execution_count": 12,
   "metadata": {},
   "outputs": [
    {
     "data": {
      "text/html": [
       "<div>\n",
       "<style scoped>\n",
       "    .dataframe tbody tr th:only-of-type {\n",
       "        vertical-align: middle;\n",
       "    }\n",
       "\n",
       "    .dataframe tbody tr th {\n",
       "        vertical-align: top;\n",
       "    }\n",
       "\n",
       "    .dataframe thead th {\n",
       "        text-align: right;\n",
       "    }\n",
       "</style>\n",
       "<table border=\"1\" class=\"dataframe\">\n",
       "  <thead>\n",
       "    <tr style=\"text-align: right;\">\n",
       "      <th></th>\n",
       "      <th>Date</th>\n",
       "      <th>Exercise</th>\n",
       "      <th>Muscle_group</th>\n",
       "      <th>Sets</th>\n",
       "      <th>Reps</th>\n",
       "      <th>Weight</th>\n",
       "      <th>Duration</th>\n",
       "      <th>Note</th>\n",
       "      <th>Total_volume</th>\n",
       "    </tr>\n",
       "  </thead>\n",
       "  <tbody>\n",
       "  </tbody>\n",
       "</table>\n",
       "</div>"
      ],
      "text/plain": [
       "Empty DataFrame\n",
       "Columns: [Date, Exercise, Muscle_group, Sets, Reps, Weight, Duration, Note, Total_volume]\n",
       "Index: []"
      ]
     },
     "execution_count": 12,
     "metadata": {},
     "output_type": "execute_result"
    }
   ],
   "source": [
    "# checking and removing NaN rows\n",
    "workout_data[workout_data.Date.isnull()]"
   ]
  },
  {
   "attachments": {},
   "cell_type": "markdown",
   "metadata": {},
   "source": [
    "### Dataframe Clean Up"
   ]
  },
  {
   "cell_type": "code",
   "execution_count": 13,
   "metadata": {},
   "outputs": [],
   "source": [
    "# columns clean up\n",
    "data_columns = ['Date', 'Exercise', 'Muscle_group', 'Sets', 'Reps', 'Weight', 'Duration', 'Note', 'Total_volume']\n",
    "workout_data = workout_data[data_columns]\n",
    "\n",
    "# rows clean up - removing NaN rows\n",
    "workout_data = workout_data[workout_data.Date.notnull()]\n",
    "\n",
    "# changing date field to datetime\n",
    "workout_data['Date'] = pd.to_datetime(workout_data['Date'], format=\"%m/%d/%Y\")\n",
    "\n",
    "# sorting dataframe according to date, exercise, sets\n",
    "workout_data = workout_data.sort_values(by=['Date','Exercise','Sets'])"
   ]
  },
  {
   "cell_type": "code",
   "execution_count": 14,
   "metadata": {},
   "outputs": [
    {
     "data": {
      "text/plain": [
       "(2717, 9)"
      ]
     },
     "execution_count": 14,
     "metadata": {},
     "output_type": "execute_result"
    }
   ],
   "source": [
    "# re-checking dataframe shape\n",
    "workout_data.shape"
   ]
  },
  {
   "attachments": {},
   "cell_type": "markdown",
   "metadata": {},
   "source": [
    "### Calculations"
   ]
  },
  {
   "cell_type": "code",
   "execution_count": 15,
   "metadata": {},
   "outputs": [],
   "source": [
    "# Date Parameters -- Calculations\n",
    "today = date.today()\n",
    "start_of_week = today - relativedelta(days=today.weekday())\n",
    "end_of_Week = start_of_week + relativedelta(days=6)\n",
    "first_day_of_month = today.replace(day=1)\n",
    "next_month_first_day = today + relativedelta(months=1, day=1)\n",
    "\n",
    "# Formatting date parameters into string\n",
    "today = today.strftime('%m-%d-%Y')\n",
    "start_of_week = start_of_week.strftime('%m-%d-%Y')\n",
    "end_of_Week = end_of_Week.strftime('%m-%d-%Y')\n",
    "first_day_of_month = first_day_of_month.strftime('%m-%d-%Y')\n",
    "next_month_first_day = next_month_first_day.strftime('%m-%d-%Y')"
   ]
  },
  {
   "attachments": {},
   "cell_type": "markdown",
   "metadata": {},
   "source": [
    "## KPIs"
   ]
  },
  {
   "cell_type": "code",
   "execution_count": 16,
   "metadata": {},
   "outputs": [
    {
     "name": "stdout",
     "output_type": "stream",
     "text": [
      "Weekly Record Count: 0\n"
     ]
    }
   ],
   "source": [
    "# total count of record in current week\n",
    "weekly_count = len(workout_data.query(\" Date >= @start_of_week & Date <= @end_of_Week\")['Date'].unique())\n",
    "print(f\"Weekly Record Count: {weekly_count}\")"
   ]
  },
  {
   "cell_type": "code",
   "execution_count": 17,
   "metadata": {},
   "outputs": [
    {
     "name": "stdout",
     "output_type": "stream",
     "text": [
      "Montly Record Count: 0\n"
     ]
    }
   ],
   "source": [
    "# total count of record in current month\n",
    "monthly_count = len(workout_data.query(\" Date >= @first_day_of_month & Date < @next_month_first_day\")['Date'].unique())\n",
    "print(f\"Montly Record Count: {monthly_count}\")"
   ]
  },
  {
   "cell_type": "code",
   "execution_count": 18,
   "metadata": {},
   "outputs": [
    {
     "name": "stdout",
     "output_type": "stream",
     "text": [
      "Total record count: 203\n"
     ]
    }
   ],
   "source": [
    "# unique date total record count\n",
    "total_records_count = len(workout_data.Date.unique())\n",
    "print(f\"Total record count: {total_records_count}\")"
   ]
  },
  {
   "cell_type": "code",
   "execution_count": 19,
   "metadata": {},
   "outputs": [
    {
     "data": {
      "text/html": [
       "<div>\n",
       "<style scoped>\n",
       "    .dataframe tbody tr th:only-of-type {\n",
       "        vertical-align: middle;\n",
       "    }\n",
       "\n",
       "    .dataframe tbody tr th {\n",
       "        vertical-align: top;\n",
       "    }\n",
       "\n",
       "    .dataframe thead th {\n",
       "        text-align: right;\n",
       "    }\n",
       "</style>\n",
       "<table border=\"1\" class=\"dataframe\">\n",
       "  <thead>\n",
       "    <tr style=\"text-align: right;\">\n",
       "      <th></th>\n",
       "      <th>Date</th>\n",
       "      <th>Total_volume</th>\n",
       "    </tr>\n",
       "  </thead>\n",
       "  <tbody>\n",
       "    <tr>\n",
       "      <th>0</th>\n",
       "      <td>2021-05-31</td>\n",
       "      <td>0.0</td>\n",
       "    </tr>\n",
       "    <tr>\n",
       "      <th>1</th>\n",
       "      <td>2021-06-01</td>\n",
       "      <td>0.0</td>\n",
       "    </tr>\n",
       "    <tr>\n",
       "      <th>2</th>\n",
       "      <td>2021-06-07</td>\n",
       "      <td>0.0</td>\n",
       "    </tr>\n",
       "    <tr>\n",
       "      <th>3</th>\n",
       "      <td>2021-06-09</td>\n",
       "      <td>0.0</td>\n",
       "    </tr>\n",
       "    <tr>\n",
       "      <th>4</th>\n",
       "      <td>2021-07-08</td>\n",
       "      <td>0.0</td>\n",
       "    </tr>\n",
       "    <tr>\n",
       "      <th>...</th>\n",
       "      <td>...</td>\n",
       "      <td>...</td>\n",
       "    </tr>\n",
       "    <tr>\n",
       "      <th>198</th>\n",
       "      <td>2023-03-24</td>\n",
       "      <td>0.0</td>\n",
       "    </tr>\n",
       "    <tr>\n",
       "      <th>199</th>\n",
       "      <td>2023-03-25</td>\n",
       "      <td>0.0</td>\n",
       "    </tr>\n",
       "    <tr>\n",
       "      <th>200</th>\n",
       "      <td>2023-03-26</td>\n",
       "      <td>9720.0</td>\n",
       "    </tr>\n",
       "    <tr>\n",
       "      <th>201</th>\n",
       "      <td>2023-03-27</td>\n",
       "      <td>10770.0</td>\n",
       "    </tr>\n",
       "    <tr>\n",
       "      <th>202</th>\n",
       "      <td>2023-03-28</td>\n",
       "      <td>9150.0</td>\n",
       "    </tr>\n",
       "  </tbody>\n",
       "</table>\n",
       "<p>203 rows × 2 columns</p>\n",
       "</div>"
      ],
      "text/plain": [
       "          Date  Total_volume\n",
       "0   2021-05-31           0.0\n",
       "1   2021-06-01           0.0\n",
       "2   2021-06-07           0.0\n",
       "3   2021-06-09           0.0\n",
       "4   2021-07-08           0.0\n",
       "..         ...           ...\n",
       "198 2023-03-24           0.0\n",
       "199 2023-03-25           0.0\n",
       "200 2023-03-26        9720.0\n",
       "201 2023-03-27       10770.0\n",
       "202 2023-03-28        9150.0\n",
       "\n",
       "[203 rows x 2 columns]"
      ]
     },
     "execution_count": 19,
     "metadata": {},
     "output_type": "execute_result"
    }
   ],
   "source": [
    "# total volume per day\n",
    "total_volume_per_day = workout_data[[\"Date\",\"Total_volume\"]].groupby(by=\"Date\").sum(\"Total_volume\")\n",
    "total_volume_per_day.reset_index()"
   ]
  },
  {
   "cell_type": "code",
   "execution_count": 20,
   "metadata": {},
   "outputs": [
    {
     "data": {
      "text/html": [
       "<div>\n",
       "<style scoped>\n",
       "    .dataframe tbody tr th:only-of-type {\n",
       "        vertical-align: middle;\n",
       "    }\n",
       "\n",
       "    .dataframe tbody tr th {\n",
       "        vertical-align: top;\n",
       "    }\n",
       "\n",
       "    .dataframe thead th {\n",
       "        text-align: right;\n",
       "    }\n",
       "</style>\n",
       "<table border=\"1\" class=\"dataframe\">\n",
       "  <thead>\n",
       "    <tr style=\"text-align: right;\">\n",
       "      <th></th>\n",
       "      <th>Exercise</th>\n",
       "      <th>Min</th>\n",
       "      <th>Max</th>\n",
       "      <th>Avg</th>\n",
       "    </tr>\n",
       "  </thead>\n",
       "  <tbody>\n",
       "    <tr>\n",
       "      <th>0</th>\n",
       "      <td>Pull Up</td>\n",
       "      <td>2</td>\n",
       "      <td>10</td>\n",
       "      <td>5</td>\n",
       "    </tr>\n",
       "    <tr>\n",
       "      <th>1</th>\n",
       "      <td>Chin Up</td>\n",
       "      <td>3</td>\n",
       "      <td>10</td>\n",
       "      <td>6</td>\n",
       "    </tr>\n",
       "    <tr>\n",
       "      <th>2</th>\n",
       "      <td>Dips</td>\n",
       "      <td>3</td>\n",
       "      <td>20</td>\n",
       "      <td>10</td>\n",
       "    </tr>\n",
       "    <tr>\n",
       "      <th>3</th>\n",
       "      <td>Push Up</td>\n",
       "      <td>10</td>\n",
       "      <td>24</td>\n",
       "      <td>13</td>\n",
       "    </tr>\n",
       "    <tr>\n",
       "      <th>4</th>\n",
       "      <td>Squat</td>\n",
       "      <td>15</td>\n",
       "      <td>25</td>\n",
       "      <td>21</td>\n",
       "    </tr>\n",
       "  </tbody>\n",
       "</table>\n",
       "</div>"
      ],
      "text/plain": [
       "  Exercise  Min  Max  Avg\n",
       "0  Pull Up    2   10    5\n",
       "1  Chin Up    3   10    6\n",
       "2     Dips    3   20   10\n",
       "3  Push Up   10   24   13\n",
       "4    Squat   15   25   21"
      ]
     },
     "execution_count": 20,
     "metadata": {},
     "output_type": "execute_result"
    }
   ],
   "source": [
    "# bodyweight analysis\n",
    "BODYWEIGHT_EXERCISES = [\"Pull Up\", \"Chin Up\", \"Dips\", \"Push Up\", \"Squat\"]\n",
    "columns_name = [\"Exercise\", \"Min\", \"Max\", \"Avg\"]\n",
    "df = []\n",
    "\n",
    "for exercise in BODYWEIGHT_EXERCISES:\n",
    "    min = round(workout_data[workout_data[\"Exercise\"] == exercise].min()[\"Reps\"])\n",
    "    max = round(workout_data[workout_data[\"Exercise\"] == exercise].max()[\"Reps\"])\n",
    "    avg = round(workout_data[workout_data[\"Exercise\"] == exercise].mean(numeric_only=True)[\"Reps\"])\n",
    "    \n",
    "    entry = [exercise, min, max, avg]\n",
    "    df.append(entry)\n",
    "    \n",
    "df = pd.DataFrame(df, columns=columns_name)\n",
    "df"
   ]
  },
  {
   "attachments": {},
   "cell_type": "markdown",
   "metadata": {},
   "source": [
    "### Latest Record"
   ]
  },
  {
   "cell_type": "code",
   "execution_count": 21,
   "metadata": {},
   "outputs": [
    {
     "data": {
      "text/html": [
       "<div>\n",
       "<style scoped>\n",
       "    .dataframe tbody tr th:only-of-type {\n",
       "        vertical-align: middle;\n",
       "    }\n",
       "\n",
       "    .dataframe tbody tr th {\n",
       "        vertical-align: top;\n",
       "    }\n",
       "\n",
       "    .dataframe thead th {\n",
       "        text-align: right;\n",
       "    }\n",
       "</style>\n",
       "<table border=\"1\" class=\"dataframe\">\n",
       "  <thead>\n",
       "    <tr style=\"text-align: right;\">\n",
       "      <th></th>\n",
       "      <th>Date</th>\n",
       "      <th>Exercise</th>\n",
       "      <th>Muscle_group</th>\n",
       "      <th>Sets</th>\n",
       "      <th>Reps</th>\n",
       "      <th>Weight</th>\n",
       "      <th>Duration</th>\n",
       "      <th>Note</th>\n",
       "      <th>Total_volume</th>\n",
       "    </tr>\n",
       "  </thead>\n",
       "  <tbody>\n",
       "    <tr>\n",
       "      <th>2709</th>\n",
       "      <td>2023-03-28</td>\n",
       "      <td>Leg Curl</td>\n",
       "      <td>Glutes_Hamstrings</td>\n",
       "      <td>1.0</td>\n",
       "      <td>10.0</td>\n",
       "      <td>20.0</td>\n",
       "      <td>NaN</td>\n",
       "      <td>both legs</td>\n",
       "      <td>200.0</td>\n",
       "    </tr>\n",
       "    <tr>\n",
       "      <th>2710</th>\n",
       "      <td>2023-03-28</td>\n",
       "      <td>Leg Curl</td>\n",
       "      <td>Glutes_Hamstrings</td>\n",
       "      <td>2.0</td>\n",
       "      <td>10.0</td>\n",
       "      <td>30.0</td>\n",
       "      <td>NaN</td>\n",
       "      <td>both legs</td>\n",
       "      <td>300.0</td>\n",
       "    </tr>\n",
       "    <tr>\n",
       "      <th>2711</th>\n",
       "      <td>2023-03-28</td>\n",
       "      <td>Leg Curl</td>\n",
       "      <td>Glutes_Hamstrings</td>\n",
       "      <td>3.0</td>\n",
       "      <td>10.0</td>\n",
       "      <td>20.0</td>\n",
       "      <td>NaN</td>\n",
       "      <td>one leg</td>\n",
       "      <td>200.0</td>\n",
       "    </tr>\n",
       "    <tr>\n",
       "      <th>2712</th>\n",
       "      <td>2023-03-28</td>\n",
       "      <td>Leg Curl</td>\n",
       "      <td>Glutes_Hamstrings</td>\n",
       "      <td>4.0</td>\n",
       "      <td>10.0</td>\n",
       "      <td>20.0</td>\n",
       "      <td>NaN</td>\n",
       "      <td>one leg</td>\n",
       "      <td>200.0</td>\n",
       "    </tr>\n",
       "    <tr>\n",
       "      <th>2705</th>\n",
       "      <td>2023-03-28</td>\n",
       "      <td>Leg Extension</td>\n",
       "      <td>Quadriceps</td>\n",
       "      <td>1.0</td>\n",
       "      <td>15.0</td>\n",
       "      <td>50.0</td>\n",
       "      <td>NaN</td>\n",
       "      <td>both legs</td>\n",
       "      <td>750.0</td>\n",
       "    </tr>\n",
       "    <tr>\n",
       "      <th>2706</th>\n",
       "      <td>2023-03-28</td>\n",
       "      <td>Leg Extension</td>\n",
       "      <td>Quadriceps</td>\n",
       "      <td>2.0</td>\n",
       "      <td>15.0</td>\n",
       "      <td>30.0</td>\n",
       "      <td>NaN</td>\n",
       "      <td>one leg</td>\n",
       "      <td>450.0</td>\n",
       "    </tr>\n",
       "    <tr>\n",
       "      <th>2707</th>\n",
       "      <td>2023-03-28</td>\n",
       "      <td>Leg Extension</td>\n",
       "      <td>Quadriceps</td>\n",
       "      <td>3.0</td>\n",
       "      <td>15.0</td>\n",
       "      <td>20.0</td>\n",
       "      <td>NaN</td>\n",
       "      <td>one leg</td>\n",
       "      <td>300.0</td>\n",
       "    </tr>\n",
       "    <tr>\n",
       "      <th>2708</th>\n",
       "      <td>2023-03-28</td>\n",
       "      <td>Leg Extension</td>\n",
       "      <td>Quadriceps</td>\n",
       "      <td>4.0</td>\n",
       "      <td>10.0</td>\n",
       "      <td>20.0</td>\n",
       "      <td>NaN</td>\n",
       "      <td>one leg</td>\n",
       "      <td>200.0</td>\n",
       "    </tr>\n",
       "    <tr>\n",
       "      <th>2701</th>\n",
       "      <td>2023-03-28</td>\n",
       "      <td>Leg Press</td>\n",
       "      <td>Quadriceps</td>\n",
       "      <td>1.0</td>\n",
       "      <td>15.0</td>\n",
       "      <td>60.0</td>\n",
       "      <td>NaN</td>\n",
       "      <td>NaN</td>\n",
       "      <td>900.0</td>\n",
       "    </tr>\n",
       "    <tr>\n",
       "      <th>2702</th>\n",
       "      <td>2023-03-28</td>\n",
       "      <td>Leg Press</td>\n",
       "      <td>Quadriceps</td>\n",
       "      <td>2.0</td>\n",
       "      <td>15.0</td>\n",
       "      <td>80.0</td>\n",
       "      <td>NaN</td>\n",
       "      <td>NaN</td>\n",
       "      <td>1200.0</td>\n",
       "    </tr>\n",
       "    <tr>\n",
       "      <th>2703</th>\n",
       "      <td>2023-03-28</td>\n",
       "      <td>Leg Press</td>\n",
       "      <td>Quadriceps</td>\n",
       "      <td>3.0</td>\n",
       "      <td>15.0</td>\n",
       "      <td>100.0</td>\n",
       "      <td>NaN</td>\n",
       "      <td>NaN</td>\n",
       "      <td>1500.0</td>\n",
       "    </tr>\n",
       "    <tr>\n",
       "      <th>2704</th>\n",
       "      <td>2023-03-28</td>\n",
       "      <td>Leg Press</td>\n",
       "      <td>Quadriceps</td>\n",
       "      <td>4.0</td>\n",
       "      <td>10.0</td>\n",
       "      <td>120.0</td>\n",
       "      <td>NaN</td>\n",
       "      <td>NaN</td>\n",
       "      <td>1200.0</td>\n",
       "    </tr>\n",
       "    <tr>\n",
       "      <th>2713</th>\n",
       "      <td>2023-03-28</td>\n",
       "      <td>Machine Calf Raise</td>\n",
       "      <td>Calves</td>\n",
       "      <td>1.0</td>\n",
       "      <td>15.0</td>\n",
       "      <td>30.0</td>\n",
       "      <td>NaN</td>\n",
       "      <td>NaN</td>\n",
       "      <td>450.0</td>\n",
       "    </tr>\n",
       "    <tr>\n",
       "      <th>2714</th>\n",
       "      <td>2023-03-28</td>\n",
       "      <td>Machine Calf Raise</td>\n",
       "      <td>Calves</td>\n",
       "      <td>2.0</td>\n",
       "      <td>10.0</td>\n",
       "      <td>40.0</td>\n",
       "      <td>NaN</td>\n",
       "      <td>NaN</td>\n",
       "      <td>400.0</td>\n",
       "    </tr>\n",
       "    <tr>\n",
       "      <th>2715</th>\n",
       "      <td>2023-03-28</td>\n",
       "      <td>Machine Calf Raise</td>\n",
       "      <td>Calves</td>\n",
       "      <td>3.0</td>\n",
       "      <td>10.0</td>\n",
       "      <td>50.0</td>\n",
       "      <td>NaN</td>\n",
       "      <td>NaN</td>\n",
       "      <td>500.0</td>\n",
       "    </tr>\n",
       "    <tr>\n",
       "      <th>2716</th>\n",
       "      <td>2023-03-28</td>\n",
       "      <td>Machine Calf Raise</td>\n",
       "      <td>Calves</td>\n",
       "      <td>4.0</td>\n",
       "      <td>10.0</td>\n",
       "      <td>40.0</td>\n",
       "      <td>NaN</td>\n",
       "      <td>NaN</td>\n",
       "      <td>400.0</td>\n",
       "    </tr>\n",
       "  </tbody>\n",
       "</table>\n",
       "</div>"
      ],
      "text/plain": [
       "           Date            Exercise       Muscle_group  Sets  Reps  Weight  \\\n",
       "2709 2023-03-28            Leg Curl  Glutes_Hamstrings   1.0  10.0    20.0   \n",
       "2710 2023-03-28            Leg Curl  Glutes_Hamstrings   2.0  10.0    30.0   \n",
       "2711 2023-03-28            Leg Curl  Glutes_Hamstrings   3.0  10.0    20.0   \n",
       "2712 2023-03-28            Leg Curl  Glutes_Hamstrings   4.0  10.0    20.0   \n",
       "2705 2023-03-28       Leg Extension         Quadriceps   1.0  15.0    50.0   \n",
       "2706 2023-03-28       Leg Extension         Quadriceps   2.0  15.0    30.0   \n",
       "2707 2023-03-28       Leg Extension         Quadriceps   3.0  15.0    20.0   \n",
       "2708 2023-03-28       Leg Extension         Quadriceps   4.0  10.0    20.0   \n",
       "2701 2023-03-28           Leg Press         Quadriceps   1.0  15.0    60.0   \n",
       "2702 2023-03-28           Leg Press         Quadriceps   2.0  15.0    80.0   \n",
       "2703 2023-03-28           Leg Press         Quadriceps   3.0  15.0   100.0   \n",
       "2704 2023-03-28           Leg Press         Quadriceps   4.0  10.0   120.0   \n",
       "2713 2023-03-28  Machine Calf Raise             Calves   1.0  15.0    30.0   \n",
       "2714 2023-03-28  Machine Calf Raise             Calves   2.0  10.0    40.0   \n",
       "2715 2023-03-28  Machine Calf Raise             Calves   3.0  10.0    50.0   \n",
       "2716 2023-03-28  Machine Calf Raise             Calves   4.0  10.0    40.0   \n",
       "\n",
       "      Duration       Note  Total_volume  \n",
       "2709       NaN  both legs         200.0  \n",
       "2710       NaN  both legs         300.0  \n",
       "2711       NaN    one leg         200.0  \n",
       "2712       NaN    one leg         200.0  \n",
       "2705       NaN  both legs         750.0  \n",
       "2706       NaN    one leg         450.0  \n",
       "2707       NaN    one leg         300.0  \n",
       "2708       NaN    one leg         200.0  \n",
       "2701       NaN        NaN         900.0  \n",
       "2702       NaN        NaN        1200.0  \n",
       "2703       NaN        NaN        1500.0  \n",
       "2704       NaN        NaN        1200.0  \n",
       "2713       NaN        NaN         450.0  \n",
       "2714       NaN        NaN         400.0  \n",
       "2715       NaN        NaN         500.0  \n",
       "2716       NaN        NaN         400.0  "
      ]
     },
     "execution_count": 21,
     "metadata": {},
     "output_type": "execute_result"
    }
   ],
   "source": [
    "latest_record = workout_data[workout_data['Date'] == workout_data['Date'].unique()[-1]]\n",
    "latest_record"
   ]
  },
  {
   "cell_type": "code",
   "execution_count": 22,
   "metadata": {},
   "outputs": [
    {
     "name": "stdout",
     "output_type": "stream",
     "text": [
      "Recent muscle groups worked out: ['Glutes_Hamstrings' 'Quadriceps' 'Calves']\n"
     ]
    }
   ],
   "source": [
    "print(f\"Recent muscle groups worked out: {workout_data[workout_data['Date'] == workout_data['Date'].unique()[-1]]['Muscle_group'].unique()}\")\n"
   ]
  },
  {
   "cell_type": "code",
   "execution_count": 23,
   "metadata": {},
   "outputs": [
    {
     "name": "stdout",
     "output_type": "stream",
     "text": [
      "Glutes_Hamstrings\n",
      "Quadriceps\n",
      "Calves\n"
     ]
    }
   ],
   "source": [
    "# what muscle did we work out last\n",
    "for unique_muscle in latest_record['Muscle_group'].unique():\n",
    "    print(unique_muscle)"
   ]
  },
  {
   "cell_type": "code",
   "execution_count": 28,
   "metadata": {},
   "outputs": [
    {
     "data": {
      "text/plain": [
       "array(['Bodyweight', 'Dumbbell Bench Press',\n",
       "       'Dumbbell Incline Bench Press',\n",
       "       'Dumbbell Overhead Triceps Extension', 'Dumbbell Shoulder Press',\n",
       "       'Front Raise', 'Lat Raise', 'Chin Up', 'Dips', 'Pull Up',\n",
       "       'Dumbbell Shrug', 'Note', 'Parallette Push-Up', 'Lat Pull-Down',\n",
       "       'Reverse-Grip Lat Pull-Down', 'Seated Cable Row (V Handle)',\n",
       "       'Machine Row', 'Ez Barbell Bicep Curl', 'Hammer Curl', 'Leg Curl',\n",
       "       'Leg extension', 'Machine Calf Raise', 'Machine Seated Leg Press',\n",
       "       'Bicep Curl', 'Military (Bbl) Shoulder Press',\n",
       "       'Single Arm Tricep Pushdown / Extension', 'Dumbbell Row',\n",
       "       'Leg Extension', 'Machine Rear Delt (Reverse) Fly',\n",
       "       'MTS Front Pull-Down', 'MTS Row', 'Ab Crunch', 'Flutter Kicks',\n",
       "       'Barbell T-Bar Row', 'Plank', 'Sit-Up', 'Underhand Barbell Row',\n",
       "       'Smith Machine Squat', 'Barbell Squat',\n",
       "       'Dumbbell Bulgarian Split-Squat',\n",
       "       'Cable Overhead Triceps Extension', 'Machine Butterfly',\n",
       "       'Machine Incline Chest Press', 'Neck Pull-Down',\n",
       "       'Cable Bar Biceps Curl', 'Push Up',\n",
       "       'Cable Straight-Bar Triceps Push-Down', 'Machine Lat Pull-Down',\n",
       "       'Cable One-Arm Row (Seated)', 'Lunge', 'Squat',\n",
       "       'Machine Shoulder Press', 'Leg Press', 'Lat Pull-down',\n",
       "       'Dumbbell Incline Bench Biceps Curl', 'Chin up', 'Pull up',\n",
       "       'Barbell Flat Bench Press', 'Lying Leg Raise',\n",
       "       'Barbell Incline Bench Press', 'Barbell Hip Thrust',\n",
       "       'Lat pull-down', 'Bulgarian Split-Squat', 'Machine Lat Pull-down'],\n",
       "      dtype=object)"
      ]
     },
     "execution_count": 28,
     "metadata": {},
     "output_type": "execute_result"
    }
   ],
   "source": [
    "workout_data['Exercise'].unique()"
   ]
  },
  {
   "cell_type": "code",
   "execution_count": null,
   "metadata": {},
   "outputs": [],
   "source": []
  }
 ],
 "metadata": {
  "kernelspec": {
   "display_name": "my_python_project",
   "language": "python",
   "name": "python3"
  },
  "language_info": {
   "codemirror_mode": {
    "name": "ipython",
    "version": 3
   },
   "file_extension": ".py",
   "mimetype": "text/x-python",
   "name": "python",
   "nbconvert_exporter": "python",
   "pygments_lexer": "ipython3",
   "version": "3.8.2"
  },
  "orig_nbformat": 4,
  "vscode": {
   "interpreter": {
    "hash": "7b1d5d7e3ebafe170e3e04607f606e955af00efa24e6aac0c2727d6bf7ed4b12"
   }
  }
 },
 "nbformat": 4,
 "nbformat_minor": 2
}
