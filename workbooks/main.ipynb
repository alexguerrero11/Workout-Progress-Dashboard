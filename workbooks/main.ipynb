{
 "cells": [
  {
   "cell_type": "code",
   "execution_count": 1,
   "metadata": {},
   "outputs": [
    {
     "name": "stderr",
     "output_type": "stream",
     "text": [
      "2023-03-02 20:41:19.800 INFO    numexpr.utils: NumExpr defaulting to 8 threads.\n"
     ]
    }
   ],
   "source": [
    "from email import header\n",
    "import streamlit as st\n",
    "import pandas as pd\n",
    "from datetime import datetime, timedelta, date\n",
    "from dateutil.relativedelta import relativedelta\n",
    "\n",
    "# --------------------------------------------------\n",
    "# import data and clean columns\n",
    "workout_data = pd.read_csv(\"../data/main.csv\")\n",
    "data_columns = ['Date', 'Exercise', 'Muscle_group', 'Sets', 'Reps', 'Weight', 'Duration', 'Note', 'Total_volume']\n",
    "workout_data = workout_data[data_columns]\n",
    "workout_data = workout_data.sort_values(by=['Date','Exercise','Sets'])\n",
    "workout_data['Date'] = pd.to_datetime(workout_data['Date'], format=\"%m/%d/%Y\")"
   ]
  },
  {
   "cell_type": "code",
   "execution_count": null,
   "metadata": {},
   "outputs": [],
   "source": [
    "# Date Parameters -- Calculations\n",
    "today = date.today()\n",
    "start_of_week = today - relativedelta(days=today.weekday())\n",
    "end_of_Week = start_of_week + relativedelta(days=6)\n",
    "first_day_of_month = today.replace(day=1)\n",
    "next_month_first_day = today + relativedelta(months=1, day=1)\n",
    "\n",
    "# Formatting into string\n",
    "today = today.strftime('%m-%d-%Y')\n",
    "start_of_week = start_of_week.strftime('%m-%d-%Y')\n",
    "end_of_Week = end_of_Week.strftime('%m-%d-%Y')\n",
    "first_day_of_month = first_day_of_month.strftime('%m-%d-%Y')\n",
    "next_month_first_day = next_month_first_day.strftime('%m-%d-%Y')"
   ]
  },
  {
   "cell_type": "code",
   "execution_count": null,
   "metadata": {},
   "outputs": [
    {
     "name": "stdout",
     "output_type": "stream",
     "text": [
      "             Date Exercise Muscle_group  Sets  Reps  Weight Duration Note  \\\n",
      "1786   01/02/2023  Chin Up       Biceps   1.0   5.0     NaN      NaN  NaN   \n",
      "1787   01/02/2023  Chin Up       Biceps   2.0   5.0     NaN      NaN  NaN   \n",
      "1788   01/02/2023     Dips      Triceps   1.0  10.0     NaN      NaN  NaN   \n",
      "1789   01/02/2023     Dips      Triceps   2.0  15.0     NaN      NaN  NaN   \n",
      "1790   01/02/2023     Dips      Triceps   3.0  15.0     NaN      NaN  NaN   \n",
      "...           ...      ...          ...   ...   ...     ...      ...  ...   \n",
      "11005         NaN      NaN          NaN   NaN   NaN     NaN      NaN  NaN   \n",
      "11006         NaN      NaN          NaN   NaN   NaN     NaN      NaN  NaN   \n",
      "11007         NaN      NaN          NaN   NaN   NaN     NaN      NaN  NaN   \n",
      "11008         NaN      NaN          NaN   NaN   NaN     NaN      NaN  NaN   \n",
      "11009         NaN      NaN          NaN   NaN   NaN     NaN      NaN  NaN   \n",
      "\n",
      "       Total_volume Unnamed: 9  \n",
      "1786            0.0        NaN  \n",
      "1787            0.0        NaN  \n",
      "1788            0.0        NaN  \n",
      "1789            0.0        NaN  \n",
      "1790            0.0        NaN  \n",
      "...             ...        ...  \n",
      "11005           0.0        NaN  \n",
      "11006           0.0        NaN  \n",
      "11007           0.0        NaN  \n",
      "11008           0.0        NaN  \n",
      "11009           0.0        NaN  \n",
      "\n",
      "[11010 rows x 10 columns]\n"
     ]
    }
   ],
   "source": [
    "print(workout_data)"
   ]
  },
  {
   "cell_type": "code",
   "execution_count": null,
   "metadata": {},
   "outputs": [],
   "source": []
  }
 ],
 "metadata": {
  "kernelspec": {
   "display_name": "my_python_project",
   "language": "python",
   "name": "python3"
  },
  "language_info": {
   "codemirror_mode": {
    "name": "ipython",
    "version": 3
   },
   "file_extension": ".py",
   "mimetype": "text/x-python",
   "name": "python",
   "nbconvert_exporter": "python",
   "pygments_lexer": "ipython3",
   "version": "3.8.2"
  },
  "orig_nbformat": 4,
  "vscode": {
   "interpreter": {
    "hash": "7b1d5d7e3ebafe170e3e04607f606e955af00efa24e6aac0c2727d6bf7ed4b12"
   }
  }
 },
 "nbformat": 4,
 "nbformat_minor": 2
}
